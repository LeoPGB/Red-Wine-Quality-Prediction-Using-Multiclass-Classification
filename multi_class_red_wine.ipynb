{
  "nbformat": 4,
  "nbformat_minor": 0,
  "metadata": {
    "colab": {
      "name": "multi_class_red_wine.ipynb",
      "provenance": [],
      "collapsed_sections": []
    },
    "kernelspec": {
      "name": "python3",
      "display_name": "Python 3"
    },
    "language_info": {
      "name": "python"
    }
  },
  "cells": [
    {
      "cell_type": "code",
      "execution_count": 173,
      "metadata": {
        "id": "hf8HozRQ1dMY"
      },
      "outputs": [],
      "source": [
        "import numpy as np\n",
        "import pandas as pd\n",
        "import matplotlib.pyplot as plt\n",
        "import seaborn as sns\n",
        "import tensorflow as tf\n",
        "from tensorflow import keras\n",
        "from tensorflow.keras import layers\n",
        "from keras.models import load_model"
      ]
    },
    {
      "cell_type": "code",
      "source": [
        "df = pd.read_csv('/content/wine.csv')\n",
        "df.head()"
      ],
      "metadata": {
        "colab": {
          "base_uri": "https://localhost:8080/",
          "height": 267
        },
        "id": "7bjjs86x19kt",
        "outputId": "ce7e1779-231a-48f9-c608-ce657a1d5fb7"
      },
      "execution_count": 90,
      "outputs": [
        {
          "output_type": "execute_result",
          "data": {
            "text/plain": [
              "   fixed acidity  volatile acidity  citric acid  residual sugar  chlorides  \\\n",
              "0            7.4              0.70         0.00             1.9      0.076   \n",
              "1            7.8              0.88         0.00             2.6      0.098   \n",
              "2            7.8              0.76         0.04             2.3      0.092   \n",
              "3           11.2              0.28         0.56             1.9      0.075   \n",
              "4            7.4              0.70         0.00             1.9      0.076   \n",
              "\n",
              "   free sulfur dioxide  total sulfur dioxide  density    pH  sulphates  \\\n",
              "0                 11.0                  34.0   0.9978  3.51       0.56   \n",
              "1                 25.0                  67.0   0.9968  3.20       0.68   \n",
              "2                 15.0                  54.0   0.9970  3.26       0.65   \n",
              "3                 17.0                  60.0   0.9980  3.16       0.58   \n",
              "4                 11.0                  34.0   0.9978  3.51       0.56   \n",
              "\n",
              "   alcohol  quality  \n",
              "0      9.4        5  \n",
              "1      9.8        5  \n",
              "2      9.8        5  \n",
              "3      9.8        6  \n",
              "4      9.4        5  "
            ],
            "text/html": [
              "\n",
              "  <div id=\"df-a0a298e9-76f8-4db6-ab03-0db951acafbc\">\n",
              "    <div class=\"colab-df-container\">\n",
              "      <div>\n",
              "<style scoped>\n",
              "    .dataframe tbody tr th:only-of-type {\n",
              "        vertical-align: middle;\n",
              "    }\n",
              "\n",
              "    .dataframe tbody tr th {\n",
              "        vertical-align: top;\n",
              "    }\n",
              "\n",
              "    .dataframe thead th {\n",
              "        text-align: right;\n",
              "    }\n",
              "</style>\n",
              "<table border=\"1\" class=\"dataframe\">\n",
              "  <thead>\n",
              "    <tr style=\"text-align: right;\">\n",
              "      <th></th>\n",
              "      <th>fixed acidity</th>\n",
              "      <th>volatile acidity</th>\n",
              "      <th>citric acid</th>\n",
              "      <th>residual sugar</th>\n",
              "      <th>chlorides</th>\n",
              "      <th>free sulfur dioxide</th>\n",
              "      <th>total sulfur dioxide</th>\n",
              "      <th>density</th>\n",
              "      <th>pH</th>\n",
              "      <th>sulphates</th>\n",
              "      <th>alcohol</th>\n",
              "      <th>quality</th>\n",
              "    </tr>\n",
              "  </thead>\n",
              "  <tbody>\n",
              "    <tr>\n",
              "      <th>0</th>\n",
              "      <td>7.4</td>\n",
              "      <td>0.70</td>\n",
              "      <td>0.00</td>\n",
              "      <td>1.9</td>\n",
              "      <td>0.076</td>\n",
              "      <td>11.0</td>\n",
              "      <td>34.0</td>\n",
              "      <td>0.9978</td>\n",
              "      <td>3.51</td>\n",
              "      <td>0.56</td>\n",
              "      <td>9.4</td>\n",
              "      <td>5</td>\n",
              "    </tr>\n",
              "    <tr>\n",
              "      <th>1</th>\n",
              "      <td>7.8</td>\n",
              "      <td>0.88</td>\n",
              "      <td>0.00</td>\n",
              "      <td>2.6</td>\n",
              "      <td>0.098</td>\n",
              "      <td>25.0</td>\n",
              "      <td>67.0</td>\n",
              "      <td>0.9968</td>\n",
              "      <td>3.20</td>\n",
              "      <td>0.68</td>\n",
              "      <td>9.8</td>\n",
              "      <td>5</td>\n",
              "    </tr>\n",
              "    <tr>\n",
              "      <th>2</th>\n",
              "      <td>7.8</td>\n",
              "      <td>0.76</td>\n",
              "      <td>0.04</td>\n",
              "      <td>2.3</td>\n",
              "      <td>0.092</td>\n",
              "      <td>15.0</td>\n",
              "      <td>54.0</td>\n",
              "      <td>0.9970</td>\n",
              "      <td>3.26</td>\n",
              "      <td>0.65</td>\n",
              "      <td>9.8</td>\n",
              "      <td>5</td>\n",
              "    </tr>\n",
              "    <tr>\n",
              "      <th>3</th>\n",
              "      <td>11.2</td>\n",
              "      <td>0.28</td>\n",
              "      <td>0.56</td>\n",
              "      <td>1.9</td>\n",
              "      <td>0.075</td>\n",
              "      <td>17.0</td>\n",
              "      <td>60.0</td>\n",
              "      <td>0.9980</td>\n",
              "      <td>3.16</td>\n",
              "      <td>0.58</td>\n",
              "      <td>9.8</td>\n",
              "      <td>6</td>\n",
              "    </tr>\n",
              "    <tr>\n",
              "      <th>4</th>\n",
              "      <td>7.4</td>\n",
              "      <td>0.70</td>\n",
              "      <td>0.00</td>\n",
              "      <td>1.9</td>\n",
              "      <td>0.076</td>\n",
              "      <td>11.0</td>\n",
              "      <td>34.0</td>\n",
              "      <td>0.9978</td>\n",
              "      <td>3.51</td>\n",
              "      <td>0.56</td>\n",
              "      <td>9.4</td>\n",
              "      <td>5</td>\n",
              "    </tr>\n",
              "  </tbody>\n",
              "</table>\n",
              "</div>\n",
              "      <button class=\"colab-df-convert\" onclick=\"convertToInteractive('df-a0a298e9-76f8-4db6-ab03-0db951acafbc')\"\n",
              "              title=\"Convert this dataframe to an interactive table.\"\n",
              "              style=\"display:none;\">\n",
              "        \n",
              "  <svg xmlns=\"http://www.w3.org/2000/svg\" height=\"24px\"viewBox=\"0 0 24 24\"\n",
              "       width=\"24px\">\n",
              "    <path d=\"M0 0h24v24H0V0z\" fill=\"none\"/>\n",
              "    <path d=\"M18.56 5.44l.94 2.06.94-2.06 2.06-.94-2.06-.94-.94-2.06-.94 2.06-2.06.94zm-11 1L8.5 8.5l.94-2.06 2.06-.94-2.06-.94L8.5 2.5l-.94 2.06-2.06.94zm10 10l.94 2.06.94-2.06 2.06-.94-2.06-.94-.94-2.06-.94 2.06-2.06.94z\"/><path d=\"M17.41 7.96l-1.37-1.37c-.4-.4-.92-.59-1.43-.59-.52 0-1.04.2-1.43.59L10.3 9.45l-7.72 7.72c-.78.78-.78 2.05 0 2.83L4 21.41c.39.39.9.59 1.41.59.51 0 1.02-.2 1.41-.59l7.78-7.78 2.81-2.81c.8-.78.8-2.07 0-2.86zM5.41 20L4 18.59l7.72-7.72 1.47 1.35L5.41 20z\"/>\n",
              "  </svg>\n",
              "      </button>\n",
              "      \n",
              "  <style>\n",
              "    .colab-df-container {\n",
              "      display:flex;\n",
              "      flex-wrap:wrap;\n",
              "      gap: 12px;\n",
              "    }\n",
              "\n",
              "    .colab-df-convert {\n",
              "      background-color: #E8F0FE;\n",
              "      border: none;\n",
              "      border-radius: 50%;\n",
              "      cursor: pointer;\n",
              "      display: none;\n",
              "      fill: #1967D2;\n",
              "      height: 32px;\n",
              "      padding: 0 0 0 0;\n",
              "      width: 32px;\n",
              "    }\n",
              "\n",
              "    .colab-df-convert:hover {\n",
              "      background-color: #E2EBFA;\n",
              "      box-shadow: 0px 1px 2px rgba(60, 64, 67, 0.3), 0px 1px 3px 1px rgba(60, 64, 67, 0.15);\n",
              "      fill: #174EA6;\n",
              "    }\n",
              "\n",
              "    [theme=dark] .colab-df-convert {\n",
              "      background-color: #3B4455;\n",
              "      fill: #D2E3FC;\n",
              "    }\n",
              "\n",
              "    [theme=dark] .colab-df-convert:hover {\n",
              "      background-color: #434B5C;\n",
              "      box-shadow: 0px 1px 3px 1px rgba(0, 0, 0, 0.15);\n",
              "      filter: drop-shadow(0px 1px 2px rgba(0, 0, 0, 0.3));\n",
              "      fill: #FFFFFF;\n",
              "    }\n",
              "  </style>\n",
              "\n",
              "      <script>\n",
              "        const buttonEl =\n",
              "          document.querySelector('#df-a0a298e9-76f8-4db6-ab03-0db951acafbc button.colab-df-convert');\n",
              "        buttonEl.style.display =\n",
              "          google.colab.kernel.accessAllowed ? 'block' : 'none';\n",
              "\n",
              "        async function convertToInteractive(key) {\n",
              "          const element = document.querySelector('#df-a0a298e9-76f8-4db6-ab03-0db951acafbc');\n",
              "          const dataTable =\n",
              "            await google.colab.kernel.invokeFunction('convertToInteractive',\n",
              "                                                     [key], {});\n",
              "          if (!dataTable) return;\n",
              "\n",
              "          const docLinkHtml = 'Like what you see? Visit the ' +\n",
              "            '<a target=\"_blank\" href=https://colab.research.google.com/notebooks/data_table.ipynb>data table notebook</a>'\n",
              "            + ' to learn more about interactive tables.';\n",
              "          element.innerHTML = '';\n",
              "          dataTable['output_type'] = 'display_data';\n",
              "          await google.colab.output.renderOutput(dataTable, element);\n",
              "          const docLink = document.createElement('div');\n",
              "          docLink.innerHTML = docLinkHtml;\n",
              "          element.appendChild(docLink);\n",
              "        }\n",
              "      </script>\n",
              "    </div>\n",
              "  </div>\n",
              "  "
            ]
          },
          "metadata": {},
          "execution_count": 90
        }
      ]
    },
    {
      "cell_type": "code",
      "source": [
        "df.shape"
      ],
      "metadata": {
        "colab": {
          "base_uri": "https://localhost:8080/"
        },
        "id": "3siNAIv42B-j",
        "outputId": "dae93ac7-7948-468b-a874-2bdb877a418f"
      },
      "execution_count": 91,
      "outputs": [
        {
          "output_type": "execute_result",
          "data": {
            "text/plain": [
              "(1599, 12)"
            ]
          },
          "metadata": {},
          "execution_count": 91
        }
      ]
    },
    {
      "cell_type": "code",
      "source": [
        "df.count()"
      ],
      "metadata": {
        "colab": {
          "base_uri": "https://localhost:8080/"
        },
        "id": "gs0Fi3Un2R4R",
        "outputId": "e10dc95e-fd03-422a-fc7d-3289ecc2be2e"
      },
      "execution_count": 92,
      "outputs": [
        {
          "output_type": "execute_result",
          "data": {
            "text/plain": [
              "fixed acidity           1599\n",
              "volatile acidity        1599\n",
              "citric acid             1599\n",
              "residual sugar          1599\n",
              "chlorides               1599\n",
              "free sulfur dioxide     1599\n",
              "total sulfur dioxide    1599\n",
              "density                 1599\n",
              "pH                      1599\n",
              "sulphates               1599\n",
              "alcohol                 1599\n",
              "quality                 1599\n",
              "dtype: int64"
            ]
          },
          "metadata": {},
          "execution_count": 92
        }
      ]
    },
    {
      "cell_type": "code",
      "source": [
        "df.describe()"
      ],
      "metadata": {
        "colab": {
          "base_uri": "https://localhost:8080/",
          "height": 399
        },
        "id": "0_4jcSS-2WXT",
        "outputId": "a52c2fa3-cf47-4c82-9f27-d4fe4ca63d3d"
      },
      "execution_count": 93,
      "outputs": [
        {
          "output_type": "execute_result",
          "data": {
            "text/plain": [
              "       fixed acidity  volatile acidity  citric acid  residual sugar  \\\n",
              "count    1599.000000       1599.000000  1599.000000     1599.000000   \n",
              "mean        8.319637          0.527821     0.270976        2.538806   \n",
              "std         1.741096          0.179060     0.194801        1.409928   \n",
              "min         4.600000          0.120000     0.000000        0.900000   \n",
              "25%         7.100000          0.390000     0.090000        1.900000   \n",
              "50%         7.900000          0.520000     0.260000        2.200000   \n",
              "75%         9.200000          0.640000     0.420000        2.600000   \n",
              "max        15.900000          1.580000     1.000000       15.500000   \n",
              "\n",
              "         chlorides  free sulfur dioxide  total sulfur dioxide      density  \\\n",
              "count  1599.000000          1599.000000           1599.000000  1599.000000   \n",
              "mean      0.087467            15.874922             46.467792     0.996747   \n",
              "std       0.047065            10.460157             32.895324     0.001887   \n",
              "min       0.012000             1.000000              6.000000     0.990070   \n",
              "25%       0.070000             7.000000             22.000000     0.995600   \n",
              "50%       0.079000            14.000000             38.000000     0.996750   \n",
              "75%       0.090000            21.000000             62.000000     0.997835   \n",
              "max       0.611000            72.000000            289.000000     1.003690   \n",
              "\n",
              "                pH    sulphates      alcohol      quality  \n",
              "count  1599.000000  1599.000000  1599.000000  1599.000000  \n",
              "mean      3.311113     0.658149    10.422983     5.636023  \n",
              "std       0.154386     0.169507     1.065668     0.807569  \n",
              "min       2.740000     0.330000     8.400000     3.000000  \n",
              "25%       3.210000     0.550000     9.500000     5.000000  \n",
              "50%       3.310000     0.620000    10.200000     6.000000  \n",
              "75%       3.400000     0.730000    11.100000     6.000000  \n",
              "max       4.010000     2.000000    14.900000     8.000000  "
            ],
            "text/html": [
              "\n",
              "  <div id=\"df-ee434085-1349-4b45-8160-b715c4a050b4\">\n",
              "    <div class=\"colab-df-container\">\n",
              "      <div>\n",
              "<style scoped>\n",
              "    .dataframe tbody tr th:only-of-type {\n",
              "        vertical-align: middle;\n",
              "    }\n",
              "\n",
              "    .dataframe tbody tr th {\n",
              "        vertical-align: top;\n",
              "    }\n",
              "\n",
              "    .dataframe thead th {\n",
              "        text-align: right;\n",
              "    }\n",
              "</style>\n",
              "<table border=\"1\" class=\"dataframe\">\n",
              "  <thead>\n",
              "    <tr style=\"text-align: right;\">\n",
              "      <th></th>\n",
              "      <th>fixed acidity</th>\n",
              "      <th>volatile acidity</th>\n",
              "      <th>citric acid</th>\n",
              "      <th>residual sugar</th>\n",
              "      <th>chlorides</th>\n",
              "      <th>free sulfur dioxide</th>\n",
              "      <th>total sulfur dioxide</th>\n",
              "      <th>density</th>\n",
              "      <th>pH</th>\n",
              "      <th>sulphates</th>\n",
              "      <th>alcohol</th>\n",
              "      <th>quality</th>\n",
              "    </tr>\n",
              "  </thead>\n",
              "  <tbody>\n",
              "    <tr>\n",
              "      <th>count</th>\n",
              "      <td>1599.000000</td>\n",
              "      <td>1599.000000</td>\n",
              "      <td>1599.000000</td>\n",
              "      <td>1599.000000</td>\n",
              "      <td>1599.000000</td>\n",
              "      <td>1599.000000</td>\n",
              "      <td>1599.000000</td>\n",
              "      <td>1599.000000</td>\n",
              "      <td>1599.000000</td>\n",
              "      <td>1599.000000</td>\n",
              "      <td>1599.000000</td>\n",
              "      <td>1599.000000</td>\n",
              "    </tr>\n",
              "    <tr>\n",
              "      <th>mean</th>\n",
              "      <td>8.319637</td>\n",
              "      <td>0.527821</td>\n",
              "      <td>0.270976</td>\n",
              "      <td>2.538806</td>\n",
              "      <td>0.087467</td>\n",
              "      <td>15.874922</td>\n",
              "      <td>46.467792</td>\n",
              "      <td>0.996747</td>\n",
              "      <td>3.311113</td>\n",
              "      <td>0.658149</td>\n",
              "      <td>10.422983</td>\n",
              "      <td>5.636023</td>\n",
              "    </tr>\n",
              "    <tr>\n",
              "      <th>std</th>\n",
              "      <td>1.741096</td>\n",
              "      <td>0.179060</td>\n",
              "      <td>0.194801</td>\n",
              "      <td>1.409928</td>\n",
              "      <td>0.047065</td>\n",
              "      <td>10.460157</td>\n",
              "      <td>32.895324</td>\n",
              "      <td>0.001887</td>\n",
              "      <td>0.154386</td>\n",
              "      <td>0.169507</td>\n",
              "      <td>1.065668</td>\n",
              "      <td>0.807569</td>\n",
              "    </tr>\n",
              "    <tr>\n",
              "      <th>min</th>\n",
              "      <td>4.600000</td>\n",
              "      <td>0.120000</td>\n",
              "      <td>0.000000</td>\n",
              "      <td>0.900000</td>\n",
              "      <td>0.012000</td>\n",
              "      <td>1.000000</td>\n",
              "      <td>6.000000</td>\n",
              "      <td>0.990070</td>\n",
              "      <td>2.740000</td>\n",
              "      <td>0.330000</td>\n",
              "      <td>8.400000</td>\n",
              "      <td>3.000000</td>\n",
              "    </tr>\n",
              "    <tr>\n",
              "      <th>25%</th>\n",
              "      <td>7.100000</td>\n",
              "      <td>0.390000</td>\n",
              "      <td>0.090000</td>\n",
              "      <td>1.900000</td>\n",
              "      <td>0.070000</td>\n",
              "      <td>7.000000</td>\n",
              "      <td>22.000000</td>\n",
              "      <td>0.995600</td>\n",
              "      <td>3.210000</td>\n",
              "      <td>0.550000</td>\n",
              "      <td>9.500000</td>\n",
              "      <td>5.000000</td>\n",
              "    </tr>\n",
              "    <tr>\n",
              "      <th>50%</th>\n",
              "      <td>7.900000</td>\n",
              "      <td>0.520000</td>\n",
              "      <td>0.260000</td>\n",
              "      <td>2.200000</td>\n",
              "      <td>0.079000</td>\n",
              "      <td>14.000000</td>\n",
              "      <td>38.000000</td>\n",
              "      <td>0.996750</td>\n",
              "      <td>3.310000</td>\n",
              "      <td>0.620000</td>\n",
              "      <td>10.200000</td>\n",
              "      <td>6.000000</td>\n",
              "    </tr>\n",
              "    <tr>\n",
              "      <th>75%</th>\n",
              "      <td>9.200000</td>\n",
              "      <td>0.640000</td>\n",
              "      <td>0.420000</td>\n",
              "      <td>2.600000</td>\n",
              "      <td>0.090000</td>\n",
              "      <td>21.000000</td>\n",
              "      <td>62.000000</td>\n",
              "      <td>0.997835</td>\n",
              "      <td>3.400000</td>\n",
              "      <td>0.730000</td>\n",
              "      <td>11.100000</td>\n",
              "      <td>6.000000</td>\n",
              "    </tr>\n",
              "    <tr>\n",
              "      <th>max</th>\n",
              "      <td>15.900000</td>\n",
              "      <td>1.580000</td>\n",
              "      <td>1.000000</td>\n",
              "      <td>15.500000</td>\n",
              "      <td>0.611000</td>\n",
              "      <td>72.000000</td>\n",
              "      <td>289.000000</td>\n",
              "      <td>1.003690</td>\n",
              "      <td>4.010000</td>\n",
              "      <td>2.000000</td>\n",
              "      <td>14.900000</td>\n",
              "      <td>8.000000</td>\n",
              "    </tr>\n",
              "  </tbody>\n",
              "</table>\n",
              "</div>\n",
              "      <button class=\"colab-df-convert\" onclick=\"convertToInteractive('df-ee434085-1349-4b45-8160-b715c4a050b4')\"\n",
              "              title=\"Convert this dataframe to an interactive table.\"\n",
              "              style=\"display:none;\">\n",
              "        \n",
              "  <svg xmlns=\"http://www.w3.org/2000/svg\" height=\"24px\"viewBox=\"0 0 24 24\"\n",
              "       width=\"24px\">\n",
              "    <path d=\"M0 0h24v24H0V0z\" fill=\"none\"/>\n",
              "    <path d=\"M18.56 5.44l.94 2.06.94-2.06 2.06-.94-2.06-.94-.94-2.06-.94 2.06-2.06.94zm-11 1L8.5 8.5l.94-2.06 2.06-.94-2.06-.94L8.5 2.5l-.94 2.06-2.06.94zm10 10l.94 2.06.94-2.06 2.06-.94-2.06-.94-.94-2.06-.94 2.06-2.06.94z\"/><path d=\"M17.41 7.96l-1.37-1.37c-.4-.4-.92-.59-1.43-.59-.52 0-1.04.2-1.43.59L10.3 9.45l-7.72 7.72c-.78.78-.78 2.05 0 2.83L4 21.41c.39.39.9.59 1.41.59.51 0 1.02-.2 1.41-.59l7.78-7.78 2.81-2.81c.8-.78.8-2.07 0-2.86zM5.41 20L4 18.59l7.72-7.72 1.47 1.35L5.41 20z\"/>\n",
              "  </svg>\n",
              "      </button>\n",
              "      \n",
              "  <style>\n",
              "    .colab-df-container {\n",
              "      display:flex;\n",
              "      flex-wrap:wrap;\n",
              "      gap: 12px;\n",
              "    }\n",
              "\n",
              "    .colab-df-convert {\n",
              "      background-color: #E8F0FE;\n",
              "      border: none;\n",
              "      border-radius: 50%;\n",
              "      cursor: pointer;\n",
              "      display: none;\n",
              "      fill: #1967D2;\n",
              "      height: 32px;\n",
              "      padding: 0 0 0 0;\n",
              "      width: 32px;\n",
              "    }\n",
              "\n",
              "    .colab-df-convert:hover {\n",
              "      background-color: #E2EBFA;\n",
              "      box-shadow: 0px 1px 2px rgba(60, 64, 67, 0.3), 0px 1px 3px 1px rgba(60, 64, 67, 0.15);\n",
              "      fill: #174EA6;\n",
              "    }\n",
              "\n",
              "    [theme=dark] .colab-df-convert {\n",
              "      background-color: #3B4455;\n",
              "      fill: #D2E3FC;\n",
              "    }\n",
              "\n",
              "    [theme=dark] .colab-df-convert:hover {\n",
              "      background-color: #434B5C;\n",
              "      box-shadow: 0px 1px 3px 1px rgba(0, 0, 0, 0.15);\n",
              "      filter: drop-shadow(0px 1px 2px rgba(0, 0, 0, 0.3));\n",
              "      fill: #FFFFFF;\n",
              "    }\n",
              "  </style>\n",
              "\n",
              "      <script>\n",
              "        const buttonEl =\n",
              "          document.querySelector('#df-ee434085-1349-4b45-8160-b715c4a050b4 button.colab-df-convert');\n",
              "        buttonEl.style.display =\n",
              "          google.colab.kernel.accessAllowed ? 'block' : 'none';\n",
              "\n",
              "        async function convertToInteractive(key) {\n",
              "          const element = document.querySelector('#df-ee434085-1349-4b45-8160-b715c4a050b4');\n",
              "          const dataTable =\n",
              "            await google.colab.kernel.invokeFunction('convertToInteractive',\n",
              "                                                     [key], {});\n",
              "          if (!dataTable) return;\n",
              "\n",
              "          const docLinkHtml = 'Like what you see? Visit the ' +\n",
              "            '<a target=\"_blank\" href=https://colab.research.google.com/notebooks/data_table.ipynb>data table notebook</a>'\n",
              "            + ' to learn more about interactive tables.';\n",
              "          element.innerHTML = '';\n",
              "          dataTable['output_type'] = 'display_data';\n",
              "          await google.colab.output.renderOutput(dataTable, element);\n",
              "          const docLink = document.createElement('div');\n",
              "          docLink.innerHTML = docLinkHtml;\n",
              "          element.appendChild(docLink);\n",
              "        }\n",
              "      </script>\n",
              "    </div>\n",
              "  </div>\n",
              "  "
            ]
          },
          "metadata": {},
          "execution_count": 93
        }
      ]
    },
    {
      "cell_type": "code",
      "source": [
        "df.info()"
      ],
      "metadata": {
        "colab": {
          "base_uri": "https://localhost:8080/"
        },
        "id": "DMlLu9Yw2U3v",
        "outputId": "cb19fb1f-a534-49f0-bcb3-702e4e187e9e"
      },
      "execution_count": 94,
      "outputs": [
        {
          "output_type": "stream",
          "name": "stdout",
          "text": [
            "<class 'pandas.core.frame.DataFrame'>\n",
            "RangeIndex: 1599 entries, 0 to 1598\n",
            "Data columns (total 12 columns):\n",
            " #   Column                Non-Null Count  Dtype  \n",
            "---  ------                --------------  -----  \n",
            " 0   fixed acidity         1599 non-null   float64\n",
            " 1   volatile acidity      1599 non-null   float64\n",
            " 2   citric acid           1599 non-null   float64\n",
            " 3   residual sugar        1599 non-null   float64\n",
            " 4   chlorides             1599 non-null   float64\n",
            " 5   free sulfur dioxide   1599 non-null   float64\n",
            " 6   total sulfur dioxide  1599 non-null   float64\n",
            " 7   density               1599 non-null   float64\n",
            " 8   pH                    1599 non-null   float64\n",
            " 9   sulphates             1599 non-null   float64\n",
            " 10  alcohol               1599 non-null   float64\n",
            " 11  quality               1599 non-null   int64  \n",
            "dtypes: float64(11), int64(1)\n",
            "memory usage: 150.0 KB\n"
          ]
        }
      ]
    },
    {
      "cell_type": "code",
      "source": [
        "df.isna().sum()"
      ],
      "metadata": {
        "colab": {
          "base_uri": "https://localhost:8080/"
        },
        "id": "xOfnTYVz2c-p",
        "outputId": "6c1e2a71-6eb1-49ed-bb73-c9745dd017d4"
      },
      "execution_count": 95,
      "outputs": [
        {
          "output_type": "execute_result",
          "data": {
            "text/plain": [
              "fixed acidity           0\n",
              "volatile acidity        0\n",
              "citric acid             0\n",
              "residual sugar          0\n",
              "chlorides               0\n",
              "free sulfur dioxide     0\n",
              "total sulfur dioxide    0\n",
              "density                 0\n",
              "pH                      0\n",
              "sulphates               0\n",
              "alcohol                 0\n",
              "quality                 0\n",
              "dtype: int64"
            ]
          },
          "metadata": {},
          "execution_count": 95
        }
      ]
    },
    {
      "cell_type": "code",
      "source": [
        "plt.figure(figsize=(15,10))\n",
        "sns.heatmap(df.corr(), annot=True)\n",
        "plt.show()"
      ],
      "metadata": {
        "colab": {
          "base_uri": "https://localhost:8080/",
          "height": 679
        },
        "id": "lJ-_Mypw2sok",
        "outputId": "8c5d5539-046a-40d8-cc57-4ffca3241149"
      },
      "execution_count": 96,
      "outputs": [
        {
          "output_type": "display_data",
          "data": {
            "text/plain": [
              "<Figure size 1080x720 with 2 Axes>"
            ],
            "image/png": "[encoded data removed]"
          },
          "metadata": {
            "needs_background": "light"
          }
        }
      ]
    },
    {
      "cell_type": "code",
      "source": [
        "sns.countplot(x='quality',data=df)"
      ],
      "metadata": {
        "colab": {
          "base_uri": "https://localhost:8080/",
          "height": 297
        },
        "id": "XbqcEQlx3N7N",
        "outputId": "6ef2b3bb-f898-4e8d-f7c1-cbfbf6f387e3"
      },
      "execution_count": 99,
      "outputs": [
        {
          "output_type": "execute_result",
          "data": {
            "text/plain": [
              "<matplotlib.axes._subplots.AxesSubplot at 0x7f6d877abcd0>"
            ]
          },
          "metadata": {},
          "execution_count": 99
        },
        {
          "output_type": "display_data",
          "data": {
            "text/plain": [
              "<Figure size 432x288 with 1 Axes>"
            ],
            "image/png": "[encoded data removed]"
          },
          "metadata": {
            "needs_background": "light"
          }
        }
      ]
    },
    {
      "cell_type": "code",
      "source": [
        "x = df.drop('quality', axis=1)\n",
        "y = df['quality']"
      ],
      "metadata": {
        "id": "-fE1OrL8--al"
      },
      "execution_count": 102,
      "outputs": []
    },
    {
      "cell_type": "code",
      "source": [
        "x.head()"
      ],
      "metadata": {
        "colab": {
          "base_uri": "https://localhost:8080/",
          "height": 267
        },
        "id": "ruOMsAWI_hqJ",
        "outputId": "443d8e3d-27ff-48f8-a162-bb08e212293e"
      },
      "execution_count": 109,
      "outputs": [
        {
          "output_type": "execute_result",
          "data": {
            "text/plain": [
              "   fixed acidity  volatile acidity  citric acid  residual sugar  chlorides  \\\n",
              "0            7.4              0.70         0.00             1.9      0.076   \n",
              "1            7.8              0.88         0.00             2.6      0.098   \n",
              "2            7.8              0.76         0.04             2.3      0.092   \n",
              "3           11.2              0.28         0.56             1.9      0.075   \n",
              "4            7.4              0.70         0.00             1.9      0.076   \n",
              "\n",
              "   free sulfur dioxide  total sulfur dioxide  density    pH  sulphates  \\\n",
              "0                 11.0                  34.0   0.9978  3.51       0.56   \n",
              "1                 25.0                  67.0   0.9968  3.20       0.68   \n",
              "2                 15.0                  54.0   0.9970  3.26       0.65   \n",
              "3                 17.0                  60.0   0.9980  3.16       0.58   \n",
              "4                 11.0                  34.0   0.9978  3.51       0.56   \n",
              "\n",
              "   alcohol  \n",
              "0      9.4  \n",
              "1      9.8  \n",
              "2      9.8  \n",
              "3      9.8  \n",
              "4      9.4  "
            ],
            "text/html": [
              "\n",
              "  <div id=\"df-83d56d22-63d6-45b6-86fd-933852ae794e\">\n",
              "    <div class=\"colab-df-container\">\n",
              "      <div>\n",
              "<style scoped>\n",
              "    .dataframe tbody tr th:only-of-type {\n",
              "        vertical-align: middle;\n",
              "    }\n",
              "\n",
              "    .dataframe tbody tr th {\n",
              "        vertical-align: top;\n",
              "    }\n",
              "\n",
              "    .dataframe thead th {\n",
              "        text-align: right;\n",
              "    }\n",
              "</style>\n",
              "<table border=\"1\" class=\"dataframe\">\n",
              "  <thead>\n",
              "    <tr style=\"text-align: right;\">\n",
              "      <th></th>\n",
              "      <th>fixed acidity</th>\n",
              "      <th>volatile acidity</th>\n",
              "      <th>citric acid</th>\n",
              "      <th>residual sugar</th>\n",
              "      <th>chlorides</th>\n",
              "      <th>free sulfur dioxide</th>\n",
              "      <th>total sulfur dioxide</th>\n",
              "      <th>density</th>\n",
              "      <th>pH</th>\n",
              "      <th>sulphates</th>\n",
              "      <th>alcohol</th>\n",
              "    </tr>\n",
              "  </thead>\n",
              "  <tbody>\n",
              "    <tr>\n",
              "      <th>0</th>\n",
              "      <td>7.4</td>\n",
              "      <td>0.70</td>\n",
              "      <td>0.00</td>\n",
              "      <td>1.9</td>\n",
              "      <td>0.076</td>\n",
              "      <td>11.0</td>\n",
              "      <td>34.0</td>\n",
              "      <td>0.9978</td>\n",
              "      <td>3.51</td>\n",
              "      <td>0.56</td>\n",
              "      <td>9.4</td>\n",
              "    </tr>\n",
              "    <tr>\n",
              "      <th>1</th>\n",
              "      <td>7.8</td>\n",
              "      <td>0.88</td>\n",
              "      <td>0.00</td>\n",
              "      <td>2.6</td>\n",
              "      <td>0.098</td>\n",
              "      <td>25.0</td>\n",
              "      <td>67.0</td>\n",
              "      <td>0.9968</td>\n",
              "      <td>3.20</td>\n",
              "      <td>0.68</td>\n",
              "      <td>9.8</td>\n",
              "    </tr>\n",
              "    <tr>\n",
              "      <th>2</th>\n",
              "      <td>7.8</td>\n",
              "      <td>0.76</td>\n",
              "      <td>0.04</td>\n",
              "      <td>2.3</td>\n",
              "      <td>0.092</td>\n",
              "      <td>15.0</td>\n",
              "      <td>54.0</td>\n",
              "      <td>0.9970</td>\n",
              "      <td>3.26</td>\n",
              "      <td>0.65</td>\n",
              "      <td>9.8</td>\n",
              "    </tr>\n",
              "    <tr>\n",
              "      <th>3</th>\n",
              "      <td>11.2</td>\n",
              "      <td>0.28</td>\n",
              "      <td>0.56</td>\n",
              "      <td>1.9</td>\n",
              "      <td>0.075</td>\n",
              "      <td>17.0</td>\n",
              "      <td>60.0</td>\n",
              "      <td>0.9980</td>\n",
              "      <td>3.16</td>\n",
              "      <td>0.58</td>\n",
              "      <td>9.8</td>\n",
              "    </tr>\n",
              "    <tr>\n",
              "      <th>4</th>\n",
              "      <td>7.4</td>\n",
              "      <td>0.70</td>\n",
              "      <td>0.00</td>\n",
              "      <td>1.9</td>\n",
              "      <td>0.076</td>\n",
              "      <td>11.0</td>\n",
              "      <td>34.0</td>\n",
              "      <td>0.9978</td>\n",
              "      <td>3.51</td>\n",
              "      <td>0.56</td>\n",
              "      <td>9.4</td>\n",
              "    </tr>\n",
              "  </tbody>\n",
              "</table>\n",
              "</div>\n",
              "      <button class=\"colab-df-convert\" onclick=\"convertToInteractive('df-83d56d22-63d6-45b6-86fd-933852ae794e')\"\n",
              "              title=\"Convert this dataframe to an interactive table.\"\n",
              "              style=\"display:none;\">\n",
              "        \n",
              "  <svg xmlns=\"http://www.w3.org/2000/svg\" height=\"24px\"viewBox=\"0 0 24 24\"\n",
              "       width=\"24px\">\n",
              "    <path d=\"M0 0h24v24H0V0z\" fill=\"none\"/>\n",
              "    <path d=\"M18.56 5.44l.94 2.06.94-2.06 2.06-.94-2.06-.94-.94-2.06-.94 2.06-2.06.94zm-11 1L8.5 8.5l.94-2.06 2.06-.94-2.06-.94L8.5 2.5l-.94 2.06-2.06.94zm10 10l.94 2.06.94-2.06 2.06-.94-2.06-.94-.94-2.06-.94 2.06-2.06.94z\"/><path d=\"M17.41 7.96l-1.37-1.37c-.4-.4-.92-.59-1.43-.59-.52 0-1.04.2-1.43.59L10.3 9.45l-7.72 7.72c-.78.78-.78 2.05 0 2.83L4 21.41c.39.39.9.59 1.41.59.51 0 1.02-.2 1.41-.59l7.78-7.78 2.81-2.81c.8-.78.8-2.07 0-2.86zM5.41 20L4 18.59l7.72-7.72 1.47 1.35L5.41 20z\"/>\n",
              "  </svg>\n",
              "      </button>\n",
              "      \n",
              "  <style>\n",
              "    .colab-df-container {\n",
              "      display:flex;\n",
              "      flex-wrap:wrap;\n",
              "      gap: 12px;\n",
              "    }\n",
              "\n",
              "    .colab-df-convert {\n",
              "      background-color: #E8F0FE;\n",
              "      border: none;\n",
              "      border-radius: 50%;\n",
              "      cursor: pointer;\n",
              "      display: none;\n",
              "      fill: #1967D2;\n",
              "      height: 32px;\n",
              "      padding: 0 0 0 0;\n",
              "      width: 32px;\n",
              "    }\n",
              "\n",
              "    .colab-df-convert:hover {\n",
              "      background-color: #E2EBFA;\n",
              "      box-shadow: 0px 1px 2px rgba(60, 64, 67, 0.3), 0px 1px 3px 1px rgba(60, 64, 67, 0.15);\n",
              "      fill: #174EA6;\n",
              "    }\n",
              "\n",
              "    [theme=dark] .colab-df-convert {\n",
              "      background-color: #3B4455;\n",
              "      fill: #D2E3FC;\n",
              "    }\n",
              "\n",
              "    [theme=dark] .colab-df-convert:hover {\n",
              "      background-color: #434B5C;\n",
              "      box-shadow: 0px 1px 3px 1px rgba(0, 0, 0, 0.15);\n",
              "      filter: drop-shadow(0px 1px 2px rgba(0, 0, 0, 0.3));\n",
              "      fill: #FFFFFF;\n",
              "    }\n",
              "  </style>\n",
              "\n",
              "      <script>\n",
              "        const buttonEl =\n",
              "          document.querySelector('#df-83d56d22-63d6-45b6-86fd-933852ae794e button.colab-df-convert');\n",
              "        buttonEl.style.display =\n",
              "          google.colab.kernel.accessAllowed ? 'block' : 'none';\n",
              "\n",
              "        async function convertToInteractive(key) {\n",
              "          const element = document.querySelector('#df-83d56d22-63d6-45b6-86fd-933852ae794e');\n",
              "          const dataTable =\n",
              "            await google.colab.kernel.invokeFunction('convertToInteractive',\n",
              "                                                     [key], {});\n",
              "          if (!dataTable) return;\n",
              "\n",
              "          const docLinkHtml = 'Like what you see? Visit the ' +\n",
              "            '<a target=\"_blank\" href=https://colab.research.google.com/notebooks/data_table.ipynb>data table notebook</a>'\n",
              "            + ' to learn more about interactive tables.';\n",
              "          element.innerHTML = '';\n",
              "          dataTable['output_type'] = 'display_data';\n",
              "          await google.colab.output.renderOutput(dataTable, element);\n",
              "          const docLink = document.createElement('div');\n",
              "          docLink.innerHTML = docLinkHtml;\n",
              "          element.appendChild(docLink);\n",
              "        }\n",
              "      </script>\n",
              "    </div>\n",
              "  </div>\n",
              "  "
            ]
          },
          "metadata": {},
          "execution_count": 109
        }
      ]
    },
    {
      "cell_type": "code",
      "source": [
        "y.head()"
      ],
      "metadata": {
        "colab": {
          "base_uri": "https://localhost:8080/"
        },
        "id": "SvuMwhHL_inJ",
        "outputId": "3bdb6c05-cdbe-44e7-d3ae-944ffb3504f7"
      },
      "execution_count": 104,
      "outputs": [
        {
          "output_type": "execute_result",
          "data": {
            "text/plain": [
              "0    5\n",
              "1    5\n",
              "2    5\n",
              "3    6\n",
              "4    5\n",
              "Name: quality, dtype: int64"
            ]
          },
          "metadata": {},
          "execution_count": 104
        }
      ]
    },
    {
      "cell_type": "code",
      "source": [
        "x.shape, y.shape"
      ],
      "metadata": {
        "colab": {
          "base_uri": "https://localhost:8080/"
        },
        "id": "NXZXuKVR_4Vu",
        "outputId": "e86d8c6a-53b3-4a32-add2-b38b8c5b5420"
      },
      "execution_count": 107,
      "outputs": [
        {
          "output_type": "execute_result",
          "data": {
            "text/plain": [
              "((1599, 11), (1599,))"
            ]
          },
          "metadata": {},
          "execution_count": 107
        }
      ]
    },
    {
      "cell_type": "code",
      "source": [
        "model= keras.Sequential()\n",
        "model.add(layers.Dense(11, activation='relu'))\n",
        "model.add(layers.Dense(10, activation='relu'))\n",
        "model.add(layers.Dense(10, activation='softmax'))\n",
        "model.compile(loss='sparse_categorical_crossentropy', optimizer='adam', metrics=['accuracy'])\n",
        "history = model.fit(x, y, validation_split=0.25, epochs=150)"
      ],
      "metadata": {
        "colab": {
          "base_uri": "https://localhost:8080/"
        },
        "id": "KKY2s8_j_jwa",
        "outputId": "adcee704-6033-41fa-8dd5-941e402f82f4"
      },
      "execution_count": 119,
      "outputs": [
        {
          "output_type": "stream",
          "name": "stdout",
          "text": [
            "Epoch 1/150\n",
            "38/38 [==============================] - 1s 8ms/step - loss: 4.3436 - accuracy: 0.3403 - val_loss: 2.4421 - val_accuracy: 0.3000\n",
            "Epoch 2/150\n",
            "38/38 [==============================] - 0s 3ms/step - loss: 1.7579 - accuracy: 0.4587 - val_loss: 1.6204 - val_accuracy: 0.4925\n",
            "Epoch 3/150\n",
            "38/38 [==============================] - 0s 3ms/step - loss: 1.4593 - accuracy: 0.4996 - val_loss: 1.4776 - val_accuracy: 0.4750\n",
            "Epoch 4/150\n",
            "38/38 [==============================] - 0s 3ms/step - loss: 1.3613 - accuracy: 0.5046 - val_loss: 1.3857 - val_accuracy: 0.4725\n",
            "Epoch 5/150\n",
            "38/38 [==============================] - 0s 3ms/step - loss: 1.2859 - accuracy: 0.5071 - val_loss: 1.3161 - val_accuracy: 0.4725\n",
            "Epoch 6/150\n",
            "38/38 [==============================] - 0s 3ms/step - loss: 1.2377 - accuracy: 0.5079 - val_loss: 1.2673 - val_accuracy: 0.4650\n",
            "Epoch 7/150\n",
            "38/38 [==============================] - 0s 3ms/step - loss: 1.2106 - accuracy: 0.4996 - val_loss: 1.2419 - val_accuracy: 0.4650\n",
            "Epoch 8/150\n",
            "38/38 [==============================] - 0s 3ms/step - loss: 1.1977 - accuracy: 0.4979 - val_loss: 1.2317 - val_accuracy: 0.4550\n",
            "Epoch 9/150\n",
            "38/38 [==============================] - 0s 3ms/step - loss: 1.1849 - accuracy: 0.4946 - val_loss: 1.2313 - val_accuracy: 0.4250\n",
            "Epoch 10/150\n",
            "38/38 [==============================] - 0s 4ms/step - loss: 1.1758 - accuracy: 0.4937 - val_loss: 1.2186 - val_accuracy: 0.4625\n",
            "Epoch 11/150\n",
            "38/38 [==============================] - 0s 5ms/step - loss: 1.1681 - accuracy: 0.5121 - val_loss: 1.2107 - val_accuracy: 0.4800\n",
            "Epoch 12/150\n",
            "38/38 [==============================] - 0s 3ms/step - loss: 1.1638 - accuracy: 0.4979 - val_loss: 1.2129 - val_accuracy: 0.4750\n",
            "Epoch 13/150\n",
            "38/38 [==============================] - 0s 3ms/step - loss: 1.1606 - accuracy: 0.5038 - val_loss: 1.2067 - val_accuracy: 0.4875\n",
            "Epoch 14/150\n",
            "38/38 [==============================] - 0s 3ms/step - loss: 1.1583 - accuracy: 0.5071 - val_loss: 1.2052 - val_accuracy: 0.4925\n",
            "Epoch 15/150\n",
            "38/38 [==============================] - 0s 3ms/step - loss: 1.1538 - accuracy: 0.4979 - val_loss: 1.2128 - val_accuracy: 0.4750\n",
            "Epoch 16/150\n",
            "38/38 [==============================] - 0s 3ms/step - loss: 1.1521 - accuracy: 0.5021 - val_loss: 1.2082 - val_accuracy: 0.4850\n",
            "Epoch 17/150\n",
            "38/38 [==============================] - 0s 4ms/step - loss: 1.1486 - accuracy: 0.4996 - val_loss: 1.2027 - val_accuracy: 0.4875\n",
            "Epoch 18/150\n",
            "38/38 [==============================] - 0s 3ms/step - loss: 1.1486 - accuracy: 0.4921 - val_loss: 1.2028 - val_accuracy: 0.4850\n",
            "Epoch 19/150\n",
            "38/38 [==============================] - 0s 3ms/step - loss: 1.1457 - accuracy: 0.5021 - val_loss: 1.2041 - val_accuracy: 0.4900\n",
            "Epoch 20/150\n",
            "38/38 [==============================] - 0s 4ms/step - loss: 1.1441 - accuracy: 0.5046 - val_loss: 1.1956 - val_accuracy: 0.4925\n",
            "Epoch 21/150\n",
            "38/38 [==============================] - 0s 3ms/step - loss: 1.1483 - accuracy: 0.5088 - val_loss: 1.1957 - val_accuracy: 0.4875\n",
            "Epoch 22/150\n",
            "38/38 [==============================] - 0s 3ms/step - loss: 1.1406 - accuracy: 0.5021 - val_loss: 1.1988 - val_accuracy: 0.4950\n",
            "Epoch 23/150\n",
            "38/38 [==============================] - 0s 3ms/step - loss: 1.1390 - accuracy: 0.4946 - val_loss: 1.1935 - val_accuracy: 0.4900\n",
            "Epoch 24/150\n",
            "38/38 [==============================] - 0s 3ms/step - loss: 1.1382 - accuracy: 0.5054 - val_loss: 1.1916 - val_accuracy: 0.4950\n",
            "Epoch 25/150\n",
            "38/38 [==============================] - 0s 3ms/step - loss: 1.1362 - accuracy: 0.5138 - val_loss: 1.1932 - val_accuracy: 0.4925\n",
            "Epoch 26/150\n",
            "38/38 [==============================] - 0s 5ms/step - loss: 1.1372 - accuracy: 0.4971 - val_loss: 1.1927 - val_accuracy: 0.4950\n",
            "Epoch 27/150\n",
            "38/38 [==============================] - 0s 4ms/step - loss: 1.1370 - accuracy: 0.5196 - val_loss: 1.1939 - val_accuracy: 0.4950\n",
            "Epoch 28/150\n",
            "38/38 [==============================] - 0s 3ms/step - loss: 1.1319 - accuracy: 0.5071 - val_loss: 1.1937 - val_accuracy: 0.4950\n",
            "Epoch 29/150\n",
            "38/38 [==============================] - 0s 3ms/step - loss: 1.1323 - accuracy: 0.4987 - val_loss: 1.1880 - val_accuracy: 0.4975\n",
            "Epoch 30/150\n",
            "38/38 [==============================] - 0s 3ms/step - loss: 1.1304 - accuracy: 0.5088 - val_loss: 1.1980 - val_accuracy: 0.4875\n",
            "Epoch 31/150\n",
            "38/38 [==============================] - 0s 3ms/step - loss: 1.1296 - accuracy: 0.5029 - val_loss: 1.1872 - val_accuracy: 0.4975\n",
            "Epoch 32/150\n",
            "38/38 [==============================] - 0s 3ms/step - loss: 1.1289 - accuracy: 0.5021 - val_loss: 1.1862 - val_accuracy: 0.5025\n",
            "Epoch 33/150\n",
            "38/38 [==============================] - 0s 4ms/step - loss: 1.1263 - accuracy: 0.5079 - val_loss: 1.1898 - val_accuracy: 0.4950\n",
            "Epoch 34/150\n",
            "38/38 [==============================] - 0s 4ms/step - loss: 1.1262 - accuracy: 0.5054 - val_loss: 1.1810 - val_accuracy: 0.5000\n",
            "Epoch 35/150\n",
            "38/38 [==============================] - 0s 4ms/step - loss: 1.1271 - accuracy: 0.5113 - val_loss: 1.1858 - val_accuracy: 0.4975\n",
            "Epoch 36/150\n",
            "38/38 [==============================] - 0s 4ms/step - loss: 1.1237 - accuracy: 0.5079 - val_loss: 1.1875 - val_accuracy: 0.5050\n",
            "Epoch 37/150\n",
            "38/38 [==============================] - 0s 4ms/step - loss: 1.1236 - accuracy: 0.5054 - val_loss: 1.1802 - val_accuracy: 0.5050\n",
            "Epoch 38/150\n",
            "38/38 [==============================] - 0s 3ms/step - loss: 1.1256 - accuracy: 0.5088 - val_loss: 1.1868 - val_accuracy: 0.5025\n",
            "Epoch 39/150\n",
            "38/38 [==============================] - 0s 3ms/step - loss: 1.1284 - accuracy: 0.5004 - val_loss: 1.1854 - val_accuracy: 0.4900\n",
            "Epoch 40/150\n",
            "38/38 [==============================] - 0s 3ms/step - loss: 1.1203 - accuracy: 0.5129 - val_loss: 1.1772 - val_accuracy: 0.5100\n",
            "Epoch 41/150\n",
            "38/38 [==============================] - 0s 3ms/step - loss: 1.1200 - accuracy: 0.5129 - val_loss: 1.1840 - val_accuracy: 0.5050\n",
            "Epoch 42/150\n",
            "38/38 [==============================] - 0s 3ms/step - loss: 1.1177 - accuracy: 0.5113 - val_loss: 1.1860 - val_accuracy: 0.5175\n",
            "Epoch 43/150\n",
            "38/38 [==============================] - 0s 4ms/step - loss: 1.1157 - accuracy: 0.5121 - val_loss: 1.1849 - val_accuracy: 0.5075\n",
            "Epoch 44/150\n",
            "38/38 [==============================] - 0s 3ms/step - loss: 1.1164 - accuracy: 0.5171 - val_loss: 1.1864 - val_accuracy: 0.4950\n",
            "Epoch 45/150\n",
            "38/38 [==============================] - 0s 4ms/step - loss: 1.1203 - accuracy: 0.5096 - val_loss: 1.1774 - val_accuracy: 0.5000\n",
            "Epoch 46/150\n",
            "38/38 [==============================] - 0s 4ms/step - loss: 1.1152 - accuracy: 0.5029 - val_loss: 1.1796 - val_accuracy: 0.5100\n",
            "Epoch 47/150\n",
            "38/38 [==============================] - 0s 4ms/step - loss: 1.1136 - accuracy: 0.5088 - val_loss: 1.1802 - val_accuracy: 0.5225\n",
            "Epoch 48/150\n",
            "38/38 [==============================] - 0s 3ms/step - loss: 1.1132 - accuracy: 0.5146 - val_loss: 1.1739 - val_accuracy: 0.5175\n",
            "Epoch 49/150\n",
            "38/38 [==============================] - 0s 3ms/step - loss: 1.1115 - accuracy: 0.5121 - val_loss: 1.1713 - val_accuracy: 0.5125\n",
            "Epoch 50/150\n",
            "38/38 [==============================] - 0s 3ms/step - loss: 1.1141 - accuracy: 0.5104 - val_loss: 1.1879 - val_accuracy: 0.5050\n",
            "Epoch 51/150\n",
            "38/38 [==============================] - 0s 3ms/step - loss: 1.1098 - accuracy: 0.5088 - val_loss: 1.1755 - val_accuracy: 0.5225\n",
            "Epoch 52/150\n",
            "38/38 [==============================] - 0s 3ms/step - loss: 1.1178 - accuracy: 0.5071 - val_loss: 1.1919 - val_accuracy: 0.4775\n",
            "Epoch 53/150\n",
            "38/38 [==============================] - 0s 3ms/step - loss: 1.1143 - accuracy: 0.5138 - val_loss: 1.1794 - val_accuracy: 0.5150\n",
            "Epoch 54/150\n",
            "38/38 [==============================] - 0s 3ms/step - loss: 1.1064 - accuracy: 0.5038 - val_loss: 1.1732 - val_accuracy: 0.5075\n",
            "Epoch 55/150\n",
            "38/38 [==============================] - 0s 4ms/step - loss: 1.1060 - accuracy: 0.5104 - val_loss: 1.1745 - val_accuracy: 0.5150\n",
            "Epoch 56/150\n",
            "38/38 [==============================] - 0s 3ms/step - loss: 1.1071 - accuracy: 0.5179 - val_loss: 1.1725 - val_accuracy: 0.5250\n",
            "Epoch 57/150\n",
            "38/38 [==============================] - 0s 3ms/step - loss: 1.1037 - accuracy: 0.5171 - val_loss: 1.1741 - val_accuracy: 0.5075\n",
            "Epoch 58/150\n",
            "38/38 [==============================] - 0s 3ms/step - loss: 1.1045 - accuracy: 0.5079 - val_loss: 1.1690 - val_accuracy: 0.5200\n",
            "Epoch 59/150\n",
            "38/38 [==============================] - 0s 3ms/step - loss: 1.1068 - accuracy: 0.5121 - val_loss: 1.1896 - val_accuracy: 0.5025\n",
            "Epoch 60/150\n",
            "38/38 [==============================] - 0s 4ms/step - loss: 1.1092 - accuracy: 0.5104 - val_loss: 1.1723 - val_accuracy: 0.5050\n",
            "Epoch 61/150\n",
            "38/38 [==============================] - 0s 3ms/step - loss: 1.1010 - accuracy: 0.5129 - val_loss: 1.1714 - val_accuracy: 0.5250\n",
            "Epoch 62/150\n",
            "38/38 [==============================] - 0s 3ms/step - loss: 1.1023 - accuracy: 0.5113 - val_loss: 1.1761 - val_accuracy: 0.5250\n",
            "Epoch 63/150\n",
            "38/38 [==============================] - 0s 3ms/step - loss: 1.1004 - accuracy: 0.5063 - val_loss: 1.1700 - val_accuracy: 0.5150\n",
            "Epoch 64/150\n",
            "38/38 [==============================] - 0s 3ms/step - loss: 1.1049 - accuracy: 0.5071 - val_loss: 1.1756 - val_accuracy: 0.5250\n",
            "Epoch 65/150\n",
            "38/38 [==============================] - 0s 3ms/step - loss: 1.0966 - accuracy: 0.5121 - val_loss: 1.1791 - val_accuracy: 0.4925\n",
            "Epoch 66/150\n",
            "38/38 [==============================] - 0s 3ms/step - loss: 1.1009 - accuracy: 0.5138 - val_loss: 1.1650 - val_accuracy: 0.5175\n",
            "Epoch 67/150\n",
            "38/38 [==============================] - 0s 3ms/step - loss: 1.0953 - accuracy: 0.5188 - val_loss: 1.1691 - val_accuracy: 0.5175\n",
            "Epoch 68/150\n",
            "38/38 [==============================] - 0s 3ms/step - loss: 1.0954 - accuracy: 0.5296 - val_loss: 1.1697 - val_accuracy: 0.5275\n",
            "Epoch 69/150\n",
            "38/38 [==============================] - 0s 3ms/step - loss: 1.0962 - accuracy: 0.5221 - val_loss: 1.1745 - val_accuracy: 0.5275\n",
            "Epoch 70/150\n",
            "38/38 [==============================] - 0s 3ms/step - loss: 1.0920 - accuracy: 0.5246 - val_loss: 1.1768 - val_accuracy: 0.5025\n",
            "Epoch 71/150\n",
            "38/38 [==============================] - 0s 3ms/step - loss: 1.0928 - accuracy: 0.5121 - val_loss: 1.1641 - val_accuracy: 0.5275\n",
            "Epoch 72/150\n",
            "38/38 [==============================] - 0s 3ms/step - loss: 1.0924 - accuracy: 0.5271 - val_loss: 1.1670 - val_accuracy: 0.5250\n",
            "Epoch 73/150\n",
            "38/38 [==============================] - 0s 3ms/step - loss: 1.0946 - accuracy: 0.5204 - val_loss: 1.1657 - val_accuracy: 0.5175\n",
            "Epoch 74/150\n",
            "38/38 [==============================] - 0s 3ms/step - loss: 1.0915 - accuracy: 0.5221 - val_loss: 1.1601 - val_accuracy: 0.5200\n",
            "Epoch 75/150\n",
            "38/38 [==============================] - 0s 3ms/step - loss: 1.0890 - accuracy: 0.5188 - val_loss: 1.1674 - val_accuracy: 0.5275\n",
            "Epoch 76/150\n",
            "38/38 [==============================] - 0s 3ms/step - loss: 1.0902 - accuracy: 0.5221 - val_loss: 1.1670 - val_accuracy: 0.5250\n",
            "Epoch 77/150\n",
            "38/38 [==============================] - 0s 3ms/step - loss: 1.0897 - accuracy: 0.5238 - val_loss: 1.1554 - val_accuracy: 0.5275\n",
            "Epoch 78/150\n",
            "38/38 [==============================] - 0s 3ms/step - loss: 1.0926 - accuracy: 0.5138 - val_loss: 1.1620 - val_accuracy: 0.5350\n",
            "Epoch 79/150\n",
            "38/38 [==============================] - 0s 3ms/step - loss: 1.0888 - accuracy: 0.5171 - val_loss: 1.1587 - val_accuracy: 0.5125\n",
            "Epoch 80/150\n",
            "38/38 [==============================] - 0s 3ms/step - loss: 1.0846 - accuracy: 0.5279 - val_loss: 1.1691 - val_accuracy: 0.5125\n",
            "Epoch 81/150\n",
            "38/38 [==============================] - 0s 3ms/step - loss: 1.0852 - accuracy: 0.5271 - val_loss: 1.1567 - val_accuracy: 0.5325\n",
            "Epoch 82/150\n",
            "38/38 [==============================] - 0s 3ms/step - loss: 1.0866 - accuracy: 0.5246 - val_loss: 1.1707 - val_accuracy: 0.5225\n",
            "Epoch 83/150\n",
            "38/38 [==============================] - 0s 3ms/step - loss: 1.0783 - accuracy: 0.5321 - val_loss: 1.1703 - val_accuracy: 0.5050\n",
            "Epoch 84/150\n",
            "38/38 [==============================] - 0s 3ms/step - loss: 1.0798 - accuracy: 0.5196 - val_loss: 1.1533 - val_accuracy: 0.5175\n",
            "Epoch 85/150\n",
            "38/38 [==============================] - 0s 3ms/step - loss: 1.0770 - accuracy: 0.5313 - val_loss: 1.1521 - val_accuracy: 0.5225\n",
            "Epoch 86/150\n",
            "38/38 [==============================] - 0s 3ms/step - loss: 1.0761 - accuracy: 0.5288 - val_loss: 1.1531 - val_accuracy: 0.5200\n",
            "Epoch 87/150\n",
            "38/38 [==============================] - 0s 3ms/step - loss: 1.0749 - accuracy: 0.5321 - val_loss: 1.1616 - val_accuracy: 0.5075\n",
            "Epoch 88/150\n",
            "38/38 [==============================] - 0s 3ms/step - loss: 1.0729 - accuracy: 0.5263 - val_loss: 1.1543 - val_accuracy: 0.5175\n",
            "Epoch 89/150\n",
            "38/38 [==============================] - 0s 3ms/step - loss: 1.0691 - accuracy: 0.5346 - val_loss: 1.1704 - val_accuracy: 0.5100\n",
            "Epoch 90/150\n",
            "38/38 [==============================] - 0s 3ms/step - loss: 1.0740 - accuracy: 0.5329 - val_loss: 1.1448 - val_accuracy: 0.5325\n",
            "Epoch 91/150\n",
            "38/38 [==============================] - 0s 3ms/step - loss: 1.0697 - accuracy: 0.5279 - val_loss: 1.1529 - val_accuracy: 0.5325\n",
            "Epoch 92/150\n",
            "38/38 [==============================] - 0s 3ms/step - loss: 1.0616 - accuracy: 0.5421 - val_loss: 1.1358 - val_accuracy: 0.5375\n",
            "Epoch 93/150\n",
            "38/38 [==============================] - 0s 3ms/step - loss: 1.0560 - accuracy: 0.5346 - val_loss: 1.1431 - val_accuracy: 0.5275\n",
            "Epoch 94/150\n",
            "38/38 [==============================] - 0s 3ms/step - loss: 1.0588 - accuracy: 0.5455 - val_loss: 1.1345 - val_accuracy: 0.5375\n",
            "Epoch 95/150\n",
            "38/38 [==============================] - 0s 3ms/step - loss: 1.0563 - accuracy: 0.5396 - val_loss: 1.1596 - val_accuracy: 0.5325\n",
            "Epoch 96/150\n",
            "38/38 [==============================] - 0s 3ms/step - loss: 1.0577 - accuracy: 0.5555 - val_loss: 1.1397 - val_accuracy: 0.5375\n",
            "Epoch 97/150\n",
            "38/38 [==============================] - 0s 3ms/step - loss: 1.0629 - accuracy: 0.5471 - val_loss: 1.1492 - val_accuracy: 0.5475\n",
            "Epoch 98/150\n",
            "38/38 [==============================] - 0s 3ms/step - loss: 1.0514 - accuracy: 0.5446 - val_loss: 1.1349 - val_accuracy: 0.5475\n",
            "Epoch 99/150\n",
            "38/38 [==============================] - 0s 3ms/step - loss: 1.0502 - accuracy: 0.5588 - val_loss: 1.1648 - val_accuracy: 0.5425\n",
            "Epoch 100/150\n",
            "38/38 [==============================] - 0s 3ms/step - loss: 1.0572 - accuracy: 0.5430 - val_loss: 1.1392 - val_accuracy: 0.5250\n",
            "Epoch 101/150\n",
            "38/38 [==============================] - 0s 3ms/step - loss: 1.0616 - accuracy: 0.5455 - val_loss: 1.1273 - val_accuracy: 0.5425\n",
            "Epoch 102/150\n",
            "38/38 [==============================] - 0s 3ms/step - loss: 1.0427 - accuracy: 0.5571 - val_loss: 1.1215 - val_accuracy: 0.5500\n",
            "Epoch 103/150\n",
            "38/38 [==============================] - 0s 3ms/step - loss: 1.0476 - accuracy: 0.5446 - val_loss: 1.1117 - val_accuracy: 0.5525\n",
            "Epoch 104/150\n",
            "38/38 [==============================] - 0s 4ms/step - loss: 1.0391 - accuracy: 0.5488 - val_loss: 1.1339 - val_accuracy: 0.5650\n",
            "Epoch 105/150\n",
            "38/38 [==============================] - 0s 3ms/step - loss: 1.0380 - accuracy: 0.5580 - val_loss: 1.1546 - val_accuracy: 0.5425\n",
            "Epoch 106/150\n",
            "38/38 [==============================] - 0s 3ms/step - loss: 1.0404 - accuracy: 0.5605 - val_loss: 1.1179 - val_accuracy: 0.5500\n",
            "Epoch 107/150\n",
            "38/38 [==============================] - 0s 3ms/step - loss: 1.0384 - accuracy: 0.5530 - val_loss: 1.1140 - val_accuracy: 0.5625\n",
            "Epoch 108/150\n",
            "38/38 [==============================] - 0s 3ms/step - loss: 1.0346 - accuracy: 0.5463 - val_loss: 1.1216 - val_accuracy: 0.5675\n",
            "Epoch 109/150\n",
            "38/38 [==============================] - 0s 3ms/step - loss: 1.0298 - accuracy: 0.5580 - val_loss: 1.1161 - val_accuracy: 0.5600\n",
            "Epoch 110/150\n",
            "38/38 [==============================] - 0s 3ms/step - loss: 1.0306 - accuracy: 0.5621 - val_loss: 1.1151 - val_accuracy: 0.5675\n",
            "Epoch 111/150\n",
            "38/38 [==============================] - 0s 4ms/step - loss: 1.0253 - accuracy: 0.5688 - val_loss: 1.1185 - val_accuracy: 0.5700\n",
            "Epoch 112/150\n",
            "38/38 [==============================] - 0s 4ms/step - loss: 1.0290 - accuracy: 0.5530 - val_loss: 1.1434 - val_accuracy: 0.5750\n",
            "Epoch 113/150\n",
            "38/38 [==============================] - 0s 4ms/step - loss: 1.0245 - accuracy: 0.5738 - val_loss: 1.1172 - val_accuracy: 0.5200\n",
            "Epoch 114/150\n",
            "38/38 [==============================] - 0s 4ms/step - loss: 1.0240 - accuracy: 0.5680 - val_loss: 1.1182 - val_accuracy: 0.5725\n",
            "Epoch 115/150\n",
            "38/38 [==============================] - 0s 3ms/step - loss: 1.0181 - accuracy: 0.5838 - val_loss: 1.1020 - val_accuracy: 0.5350\n",
            "Epoch 116/150\n",
            "38/38 [==============================] - 0s 3ms/step - loss: 1.0219 - accuracy: 0.5621 - val_loss: 1.1164 - val_accuracy: 0.5725\n",
            "Epoch 117/150\n",
            "38/38 [==============================] - 0s 3ms/step - loss: 1.0181 - accuracy: 0.5630 - val_loss: 1.0973 - val_accuracy: 0.5800\n",
            "Epoch 118/150\n",
            "38/38 [==============================] - 0s 4ms/step - loss: 1.0232 - accuracy: 0.5546 - val_loss: 1.1299 - val_accuracy: 0.5775\n",
            "Epoch 119/150\n",
            "38/38 [==============================] - 0s 3ms/step - loss: 1.0164 - accuracy: 0.5663 - val_loss: 1.0930 - val_accuracy: 0.5875\n",
            "Epoch 120/150\n",
            "38/38 [==============================] - 0s 4ms/step - loss: 1.0142 - accuracy: 0.5671 - val_loss: 1.1159 - val_accuracy: 0.5475\n",
            "Epoch 121/150\n",
            "38/38 [==============================] - 0s 3ms/step - loss: 1.0150 - accuracy: 0.5688 - val_loss: 1.1165 - val_accuracy: 0.5825\n",
            "Epoch 122/150\n",
            "38/38 [==============================] - 0s 4ms/step - loss: 1.0119 - accuracy: 0.5705 - val_loss: 1.0883 - val_accuracy: 0.5900\n",
            "Epoch 123/150\n",
            "38/38 [==============================] - 0s 3ms/step - loss: 1.0104 - accuracy: 0.5688 - val_loss: 1.1011 - val_accuracy: 0.5825\n",
            "Epoch 124/150\n",
            "38/38 [==============================] - 0s 4ms/step - loss: 1.0071 - accuracy: 0.5788 - val_loss: 1.0935 - val_accuracy: 0.5875\n",
            "Epoch 125/150\n",
            "38/38 [==============================] - 0s 5ms/step - loss: 1.0087 - accuracy: 0.5788 - val_loss: 1.1029 - val_accuracy: 0.5825\n",
            "Epoch 126/150\n",
            "38/38 [==============================] - 0s 5ms/step - loss: 1.0044 - accuracy: 0.5746 - val_loss: 1.0998 - val_accuracy: 0.5700\n",
            "Epoch 127/150\n",
            "38/38 [==============================] - 0s 4ms/step - loss: 1.0123 - accuracy: 0.5646 - val_loss: 1.0908 - val_accuracy: 0.5825\n",
            "Epoch 128/150\n",
            "38/38 [==============================] - 0s 3ms/step - loss: 1.0002 - accuracy: 0.5746 - val_loss: 1.1263 - val_accuracy: 0.5675\n",
            "Epoch 129/150\n",
            "38/38 [==============================] - 0s 3ms/step - loss: 1.0029 - accuracy: 0.5730 - val_loss: 1.0809 - val_accuracy: 0.5900\n",
            "Epoch 130/150\n",
            "38/38 [==============================] - 0s 3ms/step - loss: 0.9994 - accuracy: 0.5755 - val_loss: 1.0884 - val_accuracy: 0.5925\n",
            "Epoch 131/150\n",
            "38/38 [==============================] - 0s 3ms/step - loss: 1.0043 - accuracy: 0.5688 - val_loss: 1.0910 - val_accuracy: 0.5825\n",
            "Epoch 132/150\n",
            "38/38 [==============================] - 0s 3ms/step - loss: 0.9969 - accuracy: 0.5771 - val_loss: 1.0835 - val_accuracy: 0.5575\n",
            "Epoch 133/150\n",
            "38/38 [==============================] - 0s 3ms/step - loss: 0.9982 - accuracy: 0.5721 - val_loss: 1.0734 - val_accuracy: 0.5925\n",
            "Epoch 134/150\n",
            "38/38 [==============================] - 0s 3ms/step - loss: 0.9943 - accuracy: 0.5855 - val_loss: 1.0763 - val_accuracy: 0.5975\n",
            "Epoch 135/150\n",
            "38/38 [==============================] - 0s 3ms/step - loss: 0.9915 - accuracy: 0.5796 - val_loss: 1.0957 - val_accuracy: 0.5800\n",
            "Epoch 136/150\n",
            "38/38 [==============================] - 0s 3ms/step - loss: 0.9977 - accuracy: 0.5780 - val_loss: 1.0838 - val_accuracy: 0.5675\n",
            "Epoch 137/150\n",
            "38/38 [==============================] - 0s 3ms/step - loss: 0.9923 - accuracy: 0.5813 - val_loss: 1.0784 - val_accuracy: 0.5875\n",
            "Epoch 138/150\n",
            "38/38 [==============================] - 0s 3ms/step - loss: 0.9881 - accuracy: 0.5847 - val_loss: 1.0960 - val_accuracy: 0.5925\n",
            "Epoch 139/150\n",
            "38/38 [==============================] - 0s 3ms/step - loss: 0.9937 - accuracy: 0.5755 - val_loss: 1.0876 - val_accuracy: 0.5575\n",
            "Epoch 140/150\n",
            "38/38 [==============================] - 0s 4ms/step - loss: 0.9893 - accuracy: 0.5838 - val_loss: 1.0808 - val_accuracy: 0.5800\n",
            "Epoch 141/150\n",
            "38/38 [==============================] - 0s 3ms/step - loss: 0.9879 - accuracy: 0.5897 - val_loss: 1.0880 - val_accuracy: 0.5950\n",
            "Epoch 142/150\n",
            "38/38 [==============================] - 0s 3ms/step - loss: 0.9890 - accuracy: 0.5738 - val_loss: 1.0679 - val_accuracy: 0.5875\n",
            "Epoch 143/150\n",
            "38/38 [==============================] - 0s 3ms/step - loss: 0.9832 - accuracy: 0.5847 - val_loss: 1.0738 - val_accuracy: 0.5975\n",
            "Epoch 144/150\n",
            "38/38 [==============================] - 0s 3ms/step - loss: 0.9838 - accuracy: 0.5788 - val_loss: 1.0784 - val_accuracy: 0.5750\n",
            "Epoch 145/150\n",
            "38/38 [==============================] - 0s 3ms/step - loss: 0.9838 - accuracy: 0.5897 - val_loss: 1.0621 - val_accuracy: 0.5700\n",
            "Epoch 146/150\n",
            "38/38 [==============================] - 0s 3ms/step - loss: 0.9806 - accuracy: 0.5872 - val_loss: 1.0655 - val_accuracy: 0.5650\n",
            "Epoch 147/150\n",
            "38/38 [==============================] - 0s 4ms/step - loss: 0.9863 - accuracy: 0.5805 - val_loss: 1.0666 - val_accuracy: 0.6025\n",
            "Epoch 148/150\n",
            "38/38 [==============================] - 0s 4ms/step - loss: 0.9776 - accuracy: 0.5830 - val_loss: 1.0702 - val_accuracy: 0.5975\n",
            "Epoch 149/150\n",
            "38/38 [==============================] - 0s 3ms/step - loss: 0.9748 - accuracy: 0.5905 - val_loss: 1.0824 - val_accuracy: 0.5925\n",
            "Epoch 150/150\n",
            "38/38 [==============================] - 0s 3ms/step - loss: 0.9805 - accuracy: 0.5822 - val_loss: 1.0702 - val_accuracy: 0.6025\n"
          ]
        }
      ]
    },
    {
      "cell_type": "code",
      "source": [
        " model.summary()"
      ],
      "metadata": {
        "colab": {
          "base_uri": "https://localhost:8080/"
        },
        "id": "fhQ-r4Gt_6n2",
        "outputId": "419192fb-fc6c-4e2d-ff32-f511aa1bcda9"
      },
      "execution_count": 120,
      "outputs": [
        {
          "output_type": "stream",
          "name": "stdout",
          "text": [
            "Model: \"sequential_7\"\n",
            "_________________________________________________________________\n",
            " Layer (type)                Output Shape              Param #   \n",
            "=================================================================\n",
            " dense_19 (Dense)            (None, 11)                132       \n",
            "                                                                 \n",
            " dense_20 (Dense)            (None, 10)                120       \n",
            "                                                                 \n",
            " dense_21 (Dense)            (None, 10)                110       \n",
            "                                                                 \n",
            "=================================================================\n",
            "Total params: 362\n",
            "Trainable params: 362\n",
            "Non-trainable params: 0\n",
            "_________________________________________________________________\n"
          ]
        }
      ]
    },
    {
      "cell_type": "code",
      "source": [
        "plt.plot(history.history['loss'])\n",
        "plt.plot(history.history['val_loss'])\n",
        "plt.title('Model Loss')\n",
        "plt.xlabel('Epoch')\n",
        "plt.ylabel('Loss')\n",
        "plt.legend(['train', 'test'], loc='upper right')"
      ],
      "metadata": {
        "colab": {
          "base_uri": "https://localhost:8080/",
          "height": 313
        },
        "id": "EQ1ulfSNCwdc",
        "outputId": "739994f2-9a12-4d12-f4b3-fe245908d4ac"
      },
      "execution_count": 121,
      "outputs": [
        {
          "output_type": "execute_result",
          "data": {
            "text/plain": [
              "<matplotlib.legend.Legend at 0x7f6d18673ad0>"
            ]
          },
          "metadata": {},
          "execution_count": 121
        },
        {
          "output_type": "display_data",
          "data": {
            "text/plain": [
              "<Figure size 432x288 with 1 Axes>"
            ],
            "image/png": "[encoded data removed]"
          },
          "metadata": {
            "needs_background": "light"
          }
        }
      ]
    },
    {
      "cell_type": "code",
      "source": [
        "plt.plot(history.history['accuracy'])\n",
        "plt.plot(history.history['val_accuracy'])\n",
        "plt.title('Model Accuracy')\n",
        "plt.xlabel('Epoch')\n",
        "plt.ylabel('Accuracy')\n",
        "plt.legend(['train', 'test'], loc='lower right')"
      ],
      "metadata": {
        "colab": {
          "base_uri": "https://localhost:8080/",
          "height": 313
        },
        "id": "yUcJNcNWCxbI",
        "outputId": "00c49168-f6ed-4b4a-ee06-05810db0f7ff"
      },
      "execution_count": 123,
      "outputs": [
        {
          "output_type": "execute_result",
          "data": {
            "text/plain": [
              "<matplotlib.legend.Legend at 0x7f6d18698c50>"
            ]
          },
          "metadata": {},
          "execution_count": 123
        },
        {
          "output_type": "display_data",
          "data": {
            "text/plain": [
              "<Figure size 432x288 with 1 Axes>"
            ],
            "image/png": "[encoded data removed]"
          },
          "metadata": {
            "needs_background": "light"
          }
        }
      ]
    },
    {
      "cell_type": "code",
      "source": [
        "sample = df.sample(n=1)\n",
        "x_pred = sample.drop('quality', axis=1)\n",
        "y_true = sample['quality'].to_numpy().astype('int32')\n",
        "y_pred = model.predict(x_pred)\n",
        "\n",
        "print('Prediction Values From Sample: ', y_pred)\n",
        "max = np.argmax(y_pred, axis=1)\n",
        "print('Predicted Quality From Sample: ', max, '\\nPrediction Accuracy: ',y_pred[0][max]*100/np.sum(y_pred),\n",
        "      '%\\nTrue Quality from Sample: ', y_true)"
      ],
      "metadata": {
        "colab": {
          "base_uri": "https://localhost:8080/"
        },
        "id": "b31YBABKC0SZ",
        "outputId": "58d19cb3-53ca-451b-fb3e-da0e9001a2c2"
      },
      "execution_count": 185,
      "outputs": [
        {
          "output_type": "stream",
          "name": "stdout",
          "text": [
            "Prediction Values From Sample:  [[4.38374514e-07 2.17663751e-06 1.03002661e-04 3.71935498e-03\n",
            "  6.75640395e-03 7.18000606e-02 4.98230904e-01 3.88148278e-01\n",
            "  3.12392469e-02 1.13634314e-07]]\n",
            "Predicted Quality From Sample:  [6] \n",
            "Prediction Accuracy:  [49.82309] %\n",
            "True Quality from Sample:  [6]\n"
          ]
        }
      ]
    },
    {
      "cell_type": "code",
      "source": [
        "model.save('multi_class_red_wine_model.h5')"
      ],
      "metadata": {
        "id": "Rg7HV-HWEyss"
      },
      "execution_count": 175,
      "outputs": []
    },
    {
      "cell_type": "code",
      "source": [
        "del model"
      ],
      "metadata": {
        "id": "ngDz-D9kHbLb"
      },
      "execution_count": 176,
      "outputs": []
    },
    {
      "cell_type": "code",
      "source": [
        "model = load_model('multi_class_red_wine_model.h5')"
      ],
      "metadata": {
        "id": "XLiijj7_HH7B"
      },
      "execution_count": 177,
      "outputs": []
    },
    {
      "cell_type": "code",
      "source": [
        "sample = df.sample(n=1)\n",
        "x_pred = sample.drop('quality', axis=1)\n",
        "y_true = sample['quality'].to_numpy().astype('int32')\n",
        "y_pred = model.predict(x_pred)\n",
        "\n",
        "print('Prediction Values From Sample: ', y_pred)\n",
        "max = np.argmax(y_pred, axis=1)\n",
        "print('Predicted Quality From Sample: ', max, '\\nPrediction Accuracy: ',y_pred[0][max]*100/np.sum(y_pred),\n",
        "      '%\\nTrue Quality from Sample: ', y_true)"
      ],
      "metadata": {
        "id": "U9tP0bs6HeOI",
        "outputId": "91a17ed0-35c7-40a9-abec-e98756d00ab1",
        "colab": {
          "base_uri": "https://localhost:8080/"
        }
      },
      "execution_count": 190,
      "outputs": [
        {
          "output_type": "stream",
          "name": "stdout",
          "text": [
            "Prediction Values From Sample:  [[1.65698621e-09 1.32712143e-08 1.49589710e-06 1.63939944e-03\n",
            "  1.11652203e-02 1.72116905e-01 5.91375172e-01 2.08580568e-01\n",
            "  1.51212495e-02 1.51734264e-10]]\n",
            "Predicted Quality From Sample:  [6] \n",
            "Prediction Accuracy:  [59.137516] %\n",
            "True Quality from Sample:  [6]\n"
          ]
        }
      ]
    },
    {
      "cell_type": "code",
      "source": [
        ""
      ],
      "metadata": {
        "id": "VyfBodSOHpm-"
      },
      "execution_count": null,
      "outputs": []
    }
  ]
}